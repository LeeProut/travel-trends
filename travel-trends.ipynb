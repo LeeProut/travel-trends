{
 "cells": [
  {
   "cell_type": "code",
   "execution_count": 1,
   "metadata": {},
   "outputs": [],
   "source": [
    "# import dependencies\n",
    "import pandas as pd\n",
    "import matplotlib.pyplot as plt\n",
    "import matplotlib as mpl\n",
    "import numpy as np\n",
    "import seaborn as sns\n",
    "%matplotlib inline"
   ]
  },
  {
   "cell_type": "code",
   "execution_count": 2,
   "metadata": {},
   "outputs": [],
   "source": [
    "lux_df = pd.read_csv(\"luxury.csv\")\n",
    "sus_df = pd.read_csv(\"sustainability.csv\")"
   ]
  },
  {
   "cell_type": "code",
   "execution_count": 7,
   "metadata": {},
   "outputs": [
    {
     "data": {
      "text/html": [
       "<div>\n",
       "<style scoped>\n",
       "    .dataframe tbody tr th:only-of-type {\n",
       "        vertical-align: middle;\n",
       "    }\n",
       "\n",
       "    .dataframe tbody tr th {\n",
       "        vertical-align: top;\n",
       "    }\n",
       "\n",
       "    .dataframe thead th {\n",
       "        text-align: right;\n",
       "    }\n",
       "</style>\n",
       "<table border=\"1\" class=\"dataframe\">\n",
       "  <thead>\n",
       "    <tr style=\"text-align: right;\">\n",
       "      <th></th>\n",
       "      <th>percentage of respondents</th>\n",
       "    </tr>\n",
       "    <tr>\n",
       "      <th>Luxury Travel Priority</th>\n",
       "      <th></th>\n",
       "    </tr>\n",
       "  </thead>\n",
       "  <tbody>\n",
       "    <tr>\n",
       "      <th>Plan with a travel agent</th>\n",
       "      <td>59</td>\n",
       "    </tr>\n",
       "    <tr>\n",
       "      <th>Privacy</th>\n",
       "      <td>79</td>\n",
       "    </tr>\n",
       "    <tr>\n",
       "      <th>Off-season travel for reduced crowds</th>\n",
       "      <td>80</td>\n",
       "    </tr>\n",
       "    <tr>\n",
       "      <th>High cleanliness standards</th>\n",
       "      <td>81</td>\n",
       "    </tr>\n",
       "    <tr>\n",
       "      <th>Personalized experiences</th>\n",
       "      <td>82</td>\n",
       "    </tr>\n",
       "  </tbody>\n",
       "</table>\n",
       "</div>"
      ],
      "text/plain": [
       "                                      percentage of respondents\n",
       "Luxury Travel Priority                                         \n",
       "Plan with a travel agent                                     59\n",
       "Privacy                                                      79\n",
       "Off-season travel for reduced crowds                         80\n",
       "High cleanliness standards                                   81\n",
       "Personalized experiences                                     82"
      ]
     },
     "execution_count": 7,
     "metadata": {},
     "output_type": "execute_result"
    }
   ],
   "source": [
    "lux_sort = lux_df.sort_values(by=\"percentage of respondents\", ascending=True)\n",
    "Lux_set_df = lux_sort.set_index('Luxury Travel Priority')\n",
    "Lux_set_df"
   ]
  },
  {
   "cell_type": "code",
   "execution_count": 8,
   "metadata": {},
   "outputs": [],
   "source": [
    "# set variables and plot title and subtitle\n",
    "#changing lux_sort to Lux_set_df\n",
    "index = Lux_set_df.index\n",
    "values_lux = Lux_set_df['percentage of respondents']\n",
    "lux_plot_title = 'Luxury Travel Priorities'\n",
    "title_size = 18\n",
    "lux_subtitle = 'source: American Express Travel Jan 2021 survey'\n",
    "lux_x_label = 'percentage of respondents who agreed'"
   ]
  },
  {
   "cell_type": "code",
   "execution_count": 9,
   "metadata": {},
   "outputs": [
    {
     "data": {
      "text/plain": [
       "Text(0.5, 33.0, 'percentage of respondents who agreed')"
      ]
     },
     "execution_count": 9,
     "metadata": {},
     "output_type": "execute_result"
    },
    {
     "data": {
      "image/png": "[encoded data removed]",
      "text/plain": [
       "<Figure size 864x432 with 1 Axes>"
      ]
     },
     "metadata": {
      "needs_background": "light"
     },
     "output_type": "display_data"
    }
   ],
   "source": [
    "# sort values for plotting\n",
    "Lux_set_df.sort_values(by='percentage of respondents', inplace=True, ascending=True)\n",
    "\n",
    "# create figure \n",
    "fig, ax = plt.subplots(figsize=(12,6), facecolor=None)\n",
    "\n",
    "#set colormap\n",
    "mpl.pyplot.copper()\n",
    "\n",
    "# remove borders\n",
    "ax.spines['top'].set_visible(False)\n",
    "ax.spines['right'].set_visible(False)\n",
    "ax.spines['left'].set_visible(False)\n",
    "\n",
    "\n",
    "# create bars\n",
    "bar = ax.barh(index, values_lux)\n",
    "plt.tight_layout()\n",
    "# Format ticks\n",
    "ax.xaxis.set_major_formatter(mpl.ticker.StrMethodFormatter('{x:,.0f}'))\n",
    "ax.set(xlim=[0, 100])\n",
    "\n",
    "# Set title\n",
    "title = plt.title(lux_plot_title, pad=30, fontsize=title_size, horizontalalignment='left')\n",
    "title.set_position([0, 1])\n",
    "\n",
    "# Adjust subplots\n",
    "plt.subplots_adjust(top=0.9, bottom=0.1)\n",
    "\n",
    "# gradient for bars\n",
    "def gradientbars(bars):\n",
    "    grad = np.atleast_2d(np.linspace(0,1,256))\n",
    "    ax = bars[0].axes\n",
    "    lim = ax.get_xlim()+ax.get_ylim()\n",
    "    for bar in bars:\n",
    "        bar.set_zorder(1)\n",
    "        bar.set_facecolor('none')\n",
    "        x,y = bar.get_xy()\n",
    "        w, h = bar.get_width(), bar.get_height()\n",
    "        ax.imshow(grad, extent=[x+w, x, y, y+h], aspect='auto', zorder=1)\n",
    "    ax.axis(lim)\n",
    "gradientbars(bar)\n",
    "\n",
    "# Set labels\n",
    "rects = ax.patches\n",
    "# For each bar: place a label\n",
    "for rect in rects:\n",
    "    # Get X and Y placement of label from rect\n",
    "    x_value = rect.get_width()\n",
    "    y_value = rect.get_y() + rect.get_height() / 2\n",
    "\n",
    "    # Number of points between bar and label; change to your liking\n",
    "    space = -30\n",
    "    # Vertical alignment for positive values\n",
    "    ha = 'left'\n",
    "\n",
    "    # If value of bar is negative: place label left of bar\n",
    "    if x_value < 0:\n",
    "        # Invert space to place label to the left\n",
    "        space *= -1\n",
    "        # Horizontally align label at right\n",
    "        ha = 'right'\n",
    "\n",
    "    # Use X value as label and format number with one decimal place\n",
    "    label = '{:,.0f}%'.format(x_value)\n",
    "\n",
    "    # Create annotation\n",
    "    plt.annotate(\n",
    "        label,                      # Use `label` as label\n",
    "        (x_value, y_value),         # Place label at end of the bar\n",
    "        xytext=(space, 0),          # Horizontally shift label by `space`\n",
    "        textcoords='offset points', # Interpret `xytext` as offset in points\n",
    "        va='center',                # Vertically center label\n",
    "        ha=ha,                      # Horizontally align label differently for positive and negative values\n",
    "        color = 'white')            # Change label color to white\n",
    "    \n",
    "# Set subtitle\n",
    "trans = ax.get_xaxis_transform() # x in data untis, y in axes fraction\n",
    "ann = ax.annotate(lux_subtitle, xy=(0,1), xycoords=trans)\n",
    "\n",
    "#Set x-label\n",
    "ax.set_xlabel(lux_x_label, color='#525252')    "
   ]
  },
  {
   "cell_type": "code",
   "execution_count": 10,
   "metadata": {},
   "outputs": [
    {
     "data": {
      "text/html": [
       "<div>\n",
       "<style scoped>\n",
       "    .dataframe tbody tr th:only-of-type {\n",
       "        vertical-align: middle;\n",
       "    }\n",
       "\n",
       "    .dataframe tbody tr th {\n",
       "        vertical-align: top;\n",
       "    }\n",
       "\n",
       "    .dataframe thead th {\n",
       "        text-align: right;\n",
       "    }\n",
       "</style>\n",
       "<table border=\"1\" class=\"dataframe\">\n",
       "  <thead>\n",
       "    <tr style=\"text-align: right;\">\n",
       "      <th></th>\n",
       "      <th>Travelers Value</th>\n",
       "      <th>percentage</th>\n",
       "    </tr>\n",
       "  </thead>\n",
       "  <tbody>\n",
       "    <tr>\n",
       "      <th>0</th>\n",
       "      <td>Boosting local economies</td>\n",
       "      <td>72</td>\n",
       "    </tr>\n",
       "    <tr>\n",
       "      <th>1</th>\n",
       "      <td>Choosing brands that value diversity and inclu...</td>\n",
       "      <td>69</td>\n",
       "    </tr>\n",
       "    <tr>\n",
       "      <th>2</th>\n",
       "      <td>Selecting airlines with a carbon neutral commi...</td>\n",
       "      <td>60</td>\n",
       "    </tr>\n",
       "    <tr>\n",
       "      <th>3</th>\n",
       "      <td>Supporting sustainability-friendly travel brands</td>\n",
       "      <td>68</td>\n",
       "    </tr>\n",
       "  </tbody>\n",
       "</table>\n",
       "</div>"
      ],
      "text/plain": [
       "                                     Travelers Value  percentage\n",
       "0                           Boosting local economies          72\n",
       "1  Choosing brands that value diversity and inclu...          69\n",
       "2  Selecting airlines with a carbon neutral commi...          60\n",
       "3   Supporting sustainability-friendly travel brands          68"
      ]
     },
     "execution_count": 10,
     "metadata": {},
     "output_type": "execute_result"
    }
   ],
   "source": [
    "sus_df"
   ]
  },
  {
   "cell_type": "code",
   "execution_count": 11,
   "metadata": {},
   "outputs": [
    {
     "data": {
      "text/html": [
       "<div>\n",
       "<style scoped>\n",
       "    .dataframe tbody tr th:only-of-type {\n",
       "        vertical-align: middle;\n",
       "    }\n",
       "\n",
       "    .dataframe tbody tr th {\n",
       "        vertical-align: top;\n",
       "    }\n",
       "\n",
       "    .dataframe thead th {\n",
       "        text-align: right;\n",
       "    }\n",
       "</style>\n",
       "<table border=\"1\" class=\"dataframe\">\n",
       "  <thead>\n",
       "    <tr style=\"text-align: right;\">\n",
       "      <th></th>\n",
       "      <th>percentage</th>\n",
       "    </tr>\n",
       "    <tr>\n",
       "      <th>Travelers Value</th>\n",
       "      <th></th>\n",
       "    </tr>\n",
       "  </thead>\n",
       "  <tbody>\n",
       "    <tr>\n",
       "      <th>Boosting local economies</th>\n",
       "      <td>72</td>\n",
       "    </tr>\n",
       "    <tr>\n",
       "      <th>Choosing brands that value diversity and inclusion</th>\n",
       "      <td>69</td>\n",
       "    </tr>\n",
       "    <tr>\n",
       "      <th>Supporting sustainability-friendly travel brands</th>\n",
       "      <td>68</td>\n",
       "    </tr>\n",
       "    <tr>\n",
       "      <th>Selecting airlines with a carbon neutral commitment</th>\n",
       "      <td>60</td>\n",
       "    </tr>\n",
       "  </tbody>\n",
       "</table>\n",
       "</div>"
      ],
      "text/plain": [
       "                                                    percentage\n",
       "Travelers Value                                               \n",
       "Boosting local economies                                    72\n",
       "Choosing brands that value diversity and inclusion          69\n",
       "Supporting sustainability-friendly travel brands            68\n",
       "Selecting airlines with a carbon neutral commit...          60"
      ]
     },
     "execution_count": 11,
     "metadata": {},
     "output_type": "execute_result"
    }
   ],
   "source": [
    "sus_sort = sus_df.sort_values(by=\"percentage\", ascending=False)\n",
    "sustain_df = sus_sort.set_index('Travelers Value')\n",
    "sustain_df"
   ]
  },
  {
   "cell_type": "code",
   "execution_count": 19,
   "metadata": {},
   "outputs": [],
   "source": [
    "# set variables and plot title and subtitle\n",
    "index_sus = sustain_df.index\n",
    "values_sus = sus_sort['percentage']\n",
    "sus_plot_title = \"Travelers' Values\"\n",
    "title_size = 18\n",
    "sus_subtitle = 'source: American Express Travel Jan 2021 survey'\n",
    "sus_x_label = 'percentage of respondents who agreed'"
   ]
  },
  {
   "cell_type": "code",
   "execution_count": 20,
   "metadata": {},
   "outputs": [
    {
     "data": {
      "image/png": "[encoded data removed]",
      "text/plain": [
       "<Figure size 720x432 with 1 Axes>"
      ]
     },
     "metadata": {
      "needs_background": "light"
     },
     "output_type": "display_data"
    }
   ],
   "source": [
    "# sort values for plotting\n",
    "sustain_df.sort_values(by='percentage', inplace=True, ascending=False)\n",
    "\n",
    "# create figure \n",
    "fig, ax = plt.subplots(figsize=(10,6), facecolor=None)\n",
    "\n",
    "# remove borders\n",
    "ax.spines['top'].set_visible(False)\n",
    "ax.spines['right'].set_visible(False)\n",
    "ax.spines['left'].set_visible(False)\n",
    "\n",
    "# create bars\n",
    "bar_sus = ax.barh(index_sus, values_sus)\n",
    "plt.tight_layout()\n",
    "# Format ticks\n",
    "ax.xaxis.set_major_formatter(mpl.ticker.StrMethodFormatter('{x:,.0f}'))\n",
    "ax.set(xlim=[0, 100])\n",
    "\n",
    "# Set title\n",
    "title = plt.title(sus_plot_title, pad=30, fontsize=title_size)\n",
    "title.set_position([0, 1])"
   ]
  },
  {
   "cell_type": "code",
   "execution_count": null,
   "metadata": {},
   "outputs": [],
   "source": []
  }
 ],
 "metadata": {
  "kernelspec": {
   "display_name": "Python [conda env:PythonData] *",
   "language": "python",
   "name": "conda-env-PythonData-py"
  },
  "language_info": {
   "codemirror_mode": {
    "name": "ipython",
    "version": 3
   },
   "file_extension": ".py",
   "mimetype": "text/x-python",
   "name": "python",
   "nbconvert_exporter": "python",
   "pygments_lexer": "ipython3",
   "version": "3.6.10"
  }
 },
 "nbformat": 4,
 "nbformat_minor": 4
}
